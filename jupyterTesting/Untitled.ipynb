{
 "cells": [
  {
   "cell_type": "code",
   "execution_count": 142,
   "metadata": {},
   "outputs": [],
   "source": [
    "pathToTestCases = \"../test\"\n",
    "pathToBuild = \"../build\"\n",
    "pathToTestPre = \"../testPre\""
   ]
  },
  {
   "cell_type": "code",
   "execution_count": 143,
   "metadata": {},
   "outputs": [],
   "source": [
    "class SolveRes:\n",
    "    def __init__(self, ret, name):\n",
    "        self.log = ret\n",
    "        self.name = name\n",
    "        self.res = ret[-2].split()[-1]\n",
    "        self.time = ret[-1].split()[2]\n",
    "    def prettyPrint(self):\n",
    "        print(\"Solved problem:\", self.name)\n",
    "        print(\"Result:\", self.res)\n",
    "        print(\"Time:\", self.time)"
   ]
  },
  {
   "cell_type": "code",
   "execution_count": 144,
   "metadata": {},
   "outputs": [],
   "source": [
    "class PresolveRes:\n",
    "    def __init__(self, preRet, name):\n",
    "        retLen = len(preRet) \n",
    "        self.name = name\n",
    "        self.log = preRet\n",
    "        self.status = preRet[-2].split()[-1]\n",
    "        self.nrows = preRet[-5].split()[-1]\n",
    "        self.ncols = preRet[-4].split()[1]\n",
    "        self.time = preRet[-1].split()[3]\n",
    "    def prettyPrint(self):\n",
    "        print(\"Presolved problem:\", self.name)\n",
    "        print(\"nrows:\", self.nrows)\n",
    "        print(\"ncols:\", self.ncols)\n",
    "        print(\"Status:\", self.status)\n",
    "        print(\"Time:\", self.time)"
   ]
  },
  {
   "cell_type": "code",
   "execution_count": 181,
   "metadata": {},
   "outputs": [],
   "source": [
    " class ComparePreAndBase:\n",
    "    def __init__(self, res_base, res_withpre, stats_presolver, filename):\n",
    "        self.name = filename\n",
    "        self.res_base = res_base\n",
    "        self.res_withpre = res_withpre\n",
    "        self.stats_presolver = stats_presolver"
   ]
  },
  {
   "cell_type": "code",
   "execution_count": 145,
   "metadata": {},
   "outputs": [],
   "source": [
    "def presolve(filename):\n",
    "    ret = !time {pathToBuild}/PresolveOpb {pathToTestCases}/{filename} {pathToTestPre}/pre.{filename}\n",
    "    return PresolveRes(ret, filename)"
   ]
  },
  {
   "cell_type": "code",
   "execution_count": 146,
   "metadata": {},
   "outputs": [],
   "source": [
    "def solve(filename, to_pre_or_not_to_pre):\n",
    "    if(to_pre_or_not_to_pre):\n",
    "        ret = !time {pathToBuild}/roundingsat {pathToTestPre}/pre.{filename}\n",
    "    else:\n",
    "        ret = !time {pathToBuild}/roundingsat {pathToTestCases}/{filename}\n",
    "    return SolveRes(ret, filename)"
   ]
  },
  {
   "cell_type": "code",
   "execution_count": 182,
   "metadata": {},
   "outputs": [],
   "source": [
    "import signal\n",
    "from contextlib import contextmanager\n",
    "\n",
    "class TimeoutException(Exception): pass\n",
    "\n",
    "@contextmanager\n",
    "def time_limit(seconds):\n",
    "    def signal_handler(signum, frame):\n",
    "        raise TimeoutException(\"Timed out!\")\n",
    "    signal.signal(signal.SIGALRM, signal_handler)\n",
    "    signal.alarm(seconds)\n",
    "    try:\n",
    "        yield\n",
    "    finally:\n",
    "        signal.alarm(0)\n",
    "\n"
   ]
  },
  {
   "cell_type": "code",
   "execution_count": 147,
   "metadata": {},
   "outputs": [],
   "source": [
    "alltestfiles = !ls ../test"
   ]
  },
  {
   "cell_type": "code",
   "execution_count": 154,
   "metadata": {},
   "outputs": [],
   "source": [
    "quickProblems = ['air01.0.s.opb',\n",
    " 'air01.0.u.opb',\n",
    " 'air02.0.s.opb',\n",
    " 'air02.0.u.opb',\n",
    " 'bm23.0.s.opb',\n",
    " 'bm23.0.u.opb',\n",
    " 'diamond.0.d.opb',\n",
    " 'p0040.0.s.opb',\n",
    " 'p0040.0.u.opb',\n",
    " 'p0291.0.s.opb',\n",
    " 'p0291.0.u.opb',\n",
    " 'pipex.0.s.opb',\n",
    " 'pipex.0.u.opb',\n",
    " 'sentoy.0.s.opb',\n",
    " 'sentoy.0.u.opb',\n",
    " 'stein15.0.s.opb',\n",
    " 'stein15.0.u.opb',\n",
    " 'stein9.0.s.opb',\n",
    " 'stein9.0.u.opb']\n",
    "\n",
    "\n"
   ]
  },
  {
   "cell_type": "code",
   "execution_count": null,
   "metadata": {
    "scrolled": false
   },
   "outputs": [],
   "source": [
    "results = []"
   ]
  },
  {
   "cell_type": "code",
   "execution_count": 178,
   "metadata": {},
   "outputs": [
    {
     "name": "stdout",
     "output_type": "stream",
     "text": [
      "air01.0.s.opb\n",
      "same result: True\n",
      "solver time: 0.15s   solver time (pre): 0.05s   diff: -0.36000000000000004\n",
      "air01.0.u.opb\n",
      "same result: True\n",
      "solver time: 0.32s   solver time (pre): 0.13s   diff: -0.27\n",
      "air02.0.s.opb\n",
      "same result: True\n",
      "solver time: 1.45s   solver time (pre): 1.32s   diff: -89.56\n",
      "air02.0.u.opb\n",
      "same result: True\n",
      "solver time: 2.64s   solver time (pre): 0.71s   diff: -87.08\n",
      "bm23.0.s.opb\n",
      "same result: True\n",
      "solver time: 0.01s   solver time (pre): 0.01s   diff: -0.01\n",
      "bm23.0.u.opb\n",
      "same result: True\n",
      "solver time: 0.02s   solver time (pre): 0.02s   diff: -0.01\n",
      "diamond.0.d.opb\n",
      "same result: True\n",
      "solver time: 0.00s   solver time (pre): 0.00s   diff: -0.01\n",
      "p0040.0.s.opb\n",
      "same result: True\n",
      "solver time: 0.04s   solver time (pre): 0.00s   diff: 0.03\n",
      "p0040.0.u.opb\n",
      "same result: True\n",
      "solver time: 0.04s   solver time (pre): 0.00s   diff: 0.03\n",
      "p0291.0.s.opb\n",
      "same result: True\n",
      "solver time: 0.00s   solver time (pre): 0.00s   diff: -0.03\n",
      "p0291.0.u.opb\n",
      "same result: True\n",
      "solver time: 0.01s   solver time (pre): 0.00s   diff: -0.019999999999999997\n",
      "pipex.0.s.opb\n",
      "same result: True\n",
      "solver time: 0.05s   solver time (pre): 0.05s   diff: -0.01\n",
      "pipex.0.u.opb\n",
      "same result: True\n",
      "solver time: 0.14s   solver time (pre): 0.14s   diff: -0.01\n",
      "sentoy.0.s.opb\n",
      "same result: True\n",
      "solver time: 0.01s   solver time (pre): 0.01s   diff: -0.02\n",
      "sentoy.0.u.opb\n",
      "same result: True\n",
      "solver time: 0.13s   solver time (pre): 0.12s   diff: -0.009999999999999992\n",
      "stein15.0.s.opb\n",
      "same result: True\n",
      "solver time: 0.00s   solver time (pre): 0.00s   diff: -0.01\n",
      "stein15.0.u.opb\n",
      "same result: True\n",
      "solver time: 0.00s   solver time (pre): 0.00s   diff: -0.01\n",
      "stein9.0.s.opb\n",
      "same result: True\n",
      "solver time: 0.00s   solver time (pre): 0.00s   diff: -0.01\n",
      "stein9.0.u.opb\n",
      "same result: True\n",
      "solver time: 0.00s   solver time (pre): 0.00s   diff: -0.01\n"
     ]
    }
   ],
   "source": [
    "for prob in quickProblems:\n",
    "    try:\n",
    "        with time_limit(10):\n",
    "            solveres = solve(prob, False)\n",
    "        except TimeoutException as e:\n",
    "            print(\"Timed out solving (no presolver): \" + prob)\n",
    "    \n",
    "    presolveinf = presolve(prob)\n",
    "    try:\n",
    "        with time_limit(10):\n",
    "            solveres = solve(prob, False)\n",
    "        except TimeoutException as e:\n",
    "            print(\"Timed out solving (no presolver): \" + prob)\n",
    "    solverespre = solve(prob, True)\n",
    "    \n",
    "    timediff = float(solveres.time[:-1]) - float(solverespre.time[:-1]) - float(presolveinf.time[:-1])\n",
    "    \n",
    "    print(solveres.name)\n",
    "    print(\"same result:\", solveres.res == solverespre.res)\n",
    "    print(\"solver time: \" + solveres.time + \"   solver time (pre): \"+ solverespre.time)\n",
    "    "
   ]
  },
  {
   "cell_type": "code",
   "execution_count": 179,
   "metadata": {},
   "outputs": [
    {
     "name": "stdout",
     "output_type": "stream",
     "text": [
      "cracpb1.0.s.opb\n",
      "True\n"
     ]
    }
   ],
   "source": [
    "prob = \"cracpb1.0.s.opb\"\n",
    "solveres = solve(prob, False)\n",
    "presolve(prob)\n",
    "presolveres = solve(prob, True)\n",
    "print(solveres.name)\n",
    "print(solveres.res == presolveres.res)"
   ]
  },
  {
   "cell_type": "code",
   "execution_count": 173,
   "metadata": {},
   "outputs": [
    {
     "data": {
      "text/plain": [
       "4.53"
      ]
     },
     "execution_count": 173,
     "metadata": {},
     "output_type": "execute_result"
    }
   ],
   "source": [
    "float(presolveres.time[:-1])"
   ]
  },
  {
   "cell_type": "code",
   "execution_count": 161,
   "metadata": {},
   "outputs": [
    {
     "data": {
      "text/plain": [
       "'36.94s'"
      ]
     },
     "execution_count": 161,
     "metadata": {},
     "output_type": "execute_result"
    }
   ],
   "source": []
  },
  {
   "cell_type": "code",
   "execution_count": null,
   "metadata": {},
   "outputs": [],
   "source": []
  }
 ],
 "metadata": {
  "kernelspec": {
   "display_name": "Python 3",
   "language": "python",
   "name": "python3"
  },
  "language_info": {
   "codemirror_mode": {
    "name": "ipython",
    "version": 3
   },
   "file_extension": ".py",
   "mimetype": "text/x-python",
   "name": "python",
   "nbconvert_exporter": "python",
   "pygments_lexer": "ipython3",
   "version": "3.7.6"
  }
 },
 "nbformat": 4,
 "nbformat_minor": 4
}
